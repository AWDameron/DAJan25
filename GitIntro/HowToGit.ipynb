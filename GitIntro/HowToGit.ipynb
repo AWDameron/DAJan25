{
 "cells": [
  {
   "cell_type": "markdown",
   "metadata": {},
   "source": [
    "### Beyond the Push: Collaboration with GitHub"
   ]
  },
  {
   "cell_type": "markdown",
   "metadata": {},
   "source": [
    "Up until now, most of your work with GitHub has been contributing to your own repository. This is super important because it enables you you to upload your own work, but what about all of the other fancy stuff git allows you to do? In the field, you will often be working with another developer (sometimes more than one) and mistakes will happen! In this case, the `git add .`, `git commit -m \"\"`, and `git push` probably won't be enough."
   ]
  },
  {
   "cell_type": "markdown",
   "metadata": {},
   "source": [
    "#### Working with other developers\n",
    "\n",
    "When you're working with other developers on git, each of you will most likely have your own branches. Regardless, in the development enironment, most teams will not work directly off the master or main branches. https://www.theserverside.com/feature/Why-GitHub-renamed-its-master-branch-to-main\n",
    "\n",
    "Each development environment is unique; however, there is a common trend to create changes in a `develop` branch, then when ready for testing and/or deployment, merge `develop` into `main`.\n",
    "\n",
    "To break it down one step further, some teams even have another branch that comes earlier in the process that they use for separate releases and merge that into `develop` before `main`."
   ]
  },
  {
   "attachments": {
    "image.png": {
     "image/png": "[encoded data removed]"
    }
   },
   "cell_type": "markdown",
   "metadata": {},
   "source": [
    "There are multiple ways that developers can collaborate on git. Let's talk about the difference between a fork and a regular branch.\n",
    "\n",
    "##### Branch\n",
    "A regular branch on git is created when you want to copy one branch and make changes to that code without impacting the current branch.\n",
    "\n",
    "![image.png](attachment:image.png)\n",
    "\n",
    "For example, in any of your repos, you probably have a `main` branch. Since we want to reserve that `main` branch for working code and releases, where else can we keep track of our changes?\n",
    "\n",
    "When you are on a git repository, you can create a new branch by using the `git branch` command. Here are the steps I typically follow.\n",
    "\n",
    "1. Make sure I'm actually in a git repository. To do this, I will either type `git branch` or `git status` and make sure it doesn't throw an error. Sometimes I don't navigate my terminal to the right folder first.\n",
    "\n",
    "2. Check my current branch by typing in `git branch`. Before I start making changes, I want to make sure I'm in the right branch!\n",
    "\n",
    "3. If I'm not in the branch I want to copy or make changes to, I will switch branches by using `git checkout <branchname>`.\n",
    "\n",
    "4. Once I am on the branch I want to copy, you can copy it by using `git branch <new branch name>`\n",
    "\n",
    "5. To switch to that new branch, type `git checkout <branchname>`"
   ]
  },
  {
   "attachments": {
    "image-2.png": {
     "image/png": "[encoded data removed]"
    },
    "image.png": {
     "image/png": "[encoded data removed]"
    }
   },
   "cell_type": "markdown",
   "metadata": {},
   "source": [
    "##### Fork\n",
    "\n",
    "A fork on git is someone copying a branch from one repository, typically `main`, to their own repository. Using this method, the forked branch is still associated with the parent repository by mention, but since you forked a version, you own this forked version.\n",
    "\n",
    "![image.png](attachment:image.png)\n",
    "\n",
    "##### Clone\n",
    "But what about a clone? A clone takes a `remote`, or the version on GitHub, and creates a copy on your local machine, called the `local`. When cloning, you can only `add` and `commit` changes if you have write access to the repository you cloned from. Otherwise, you will have to manually create a new repository that you own on your GitHub and attach that `local` copy to your own `remote`.\n",
    "\n",
    "![image-2.png](attachment:image-2.png)\n",
    "\n",
    "In this case, if you have individual write access to the repository, you would want to `clone`. When cloning, you can take advantage of working on the same repository with your teammates. If someone else owns the repository but you don't have write access, you will have to `fork` it to make changes."
   ]
  },
  {
   "cell_type": "markdown",
   "metadata": {},
   "source": [
    "#### Contributing off of a branch"
   ]
  },
  {
   "cell_type": "code",
   "execution_count": null,
   "metadata": {},
   "outputs": [],
   "source": []
  }
 ],
 "metadata": {
  "language_info": {
   "name": "python"
  }
 },
 "nbformat": 4,
 "nbformat_minor": 2
}
